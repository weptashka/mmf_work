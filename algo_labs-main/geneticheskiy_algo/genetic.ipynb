{
 "cells": [
  {
   "cell_type": "code",
   "execution_count": 63,
   "metadata": {},
   "outputs": [],
   "source": [
    "# var 3\n",
    "\n",
    "import random\n",
    "\n",
    "from collections import OrderedDict\n",
    "from itertools import islice"
   ]
  },
  {
   "attachments": {},
   "cell_type": "markdown",
   "metadata": {},
   "source": [
    "x*y*z+x*y*z^2+y+u*x*y^2*z^2+w^2*x*y^2*z=-50\t\t\t\t\t\t\t\t\t\t\t\t\t"
   ]
  },
  {
   "cell_type": "code",
   "execution_count": 64,
   "metadata": {},
   "outputs": [],
   "source": [
    "POPULATION_SIZE = 3000\n",
    "MIN_VALUE = -300\n",
    "MAX_VALUE = 300\n",
    "NUM_ITEMS_FOR_SELECTION = 1000\n",
    "NUM_ITEMS_FOR_MUTATION = 500\n",
    "NUM_OF_SUITABLE_DESCEDANTS = 200\n",
    "\n",
    "MUTATION_PROBABILITY_FOR_SUITABLE = 0.01\n",
    "MUTATION_PROBABILITY_FOR_UNSUITABLE = 0.25"
   ]
  },
  {
   "cell_type": "code",
   "execution_count": 65,
   "metadata": {},
   "outputs": [],
   "source": [
    "def generate_item(min_value, max_value):\n",
    "    return [random.randint(min_value, max_value) for _ in ['u', 'w', 'x', 'y', 'z']]"
   ]
  },
  {
   "cell_type": "code",
   "execution_count": 66,
   "metadata": {},
   "outputs": [],
   "source": [
    "def create_initial_population(population_size: int, min_value: int, max_value: int):\n",
    "    population = []\n",
    "    for index in range(population_size):\n",
    "        item = generate_item(min_value, max_value)\n",
    "        population.append(item)\n",
    "    return population"
   ]
  },
  {
   "cell_type": "code",
   "execution_count": 67,
   "metadata": {},
   "outputs": [],
   "source": [
    "population = create_initial_population(POPULATION_SIZE, MIN_VALUE, MAX_VALUE)"
   ]
  },
  {
   "cell_type": "code",
   "execution_count": 68,
   "metadata": {},
   "outputs": [],
   "source": [
    "TARGET_VALUE = -50\n",
    "\n",
    "\n",
    "def target_function(u, w, x, y, z):\n",
    "    return abs(x*y*z + x*y*z**2 + y + u*x*y**2*z**2 + w**2*x*y**2*z - TARGET_VALUE)"
   ]
  },
  {
   "cell_type": "code",
   "execution_count": 69,
   "metadata": {},
   "outputs": [],
   "source": [
    "def perform_tournament_selection(population, num_items_for_selection, num_items_for_mutation, target_function):\n",
    "    sample =  random.sample(population, num_items_for_selection)\n",
    "    \n",
    "    target_item_dict = {\n",
    "        target_function(*item): item\n",
    "        for item in sample\n",
    "    }\n",
    "    ordered_target_item_dict = OrderedDict(sorted(target_item_dict.items()))\n",
    "    \n",
    "    return list(OrderedDict(islice(ordered_target_item_dict.items(), 0, num_items_for_mutation)).values())"
   ]
  },
  {
   "cell_type": "code",
   "execution_count": 70,
   "metadata": {},
   "outputs": [],
   "source": [
    "selection = perform_tournament_selection(population, NUM_ITEMS_FOR_SELECTION, NUM_ITEMS_FOR_MUTATION, target_function)"
   ]
  },
  {
   "cell_type": "code",
   "execution_count": 71,
   "metadata": {},
   "outputs": [],
   "source": [
    "def perform_homogeneous_crossing_for_two_elements(first_item, second_item):\n",
    "    new_item = [\n",
    "        random.choice([coordinate1, coordinate2]) for coordinate1, coordinate2 in zip(first_item, second_item)\n",
    "    ]\n",
    "    return new_item\n"
   ]
  },
  {
   "cell_type": "code",
   "execution_count": 72,
   "metadata": {},
   "outputs": [],
   "source": [
    "def perform_homogeneous_crossing(selection, descendants_size):\n",
    "    descendants = [\n",
    "        perform_homogeneous_crossing_for_two_elements(random.choice(selection), random.choice(selection))\n",
    "        for _ in range(descendants_size)\n",
    "    ]\n",
    "    return descendants"
   ]
  },
  {
   "cell_type": "code",
   "execution_count": 73,
   "metadata": {},
   "outputs": [],
   "source": [
    "def should_perform_coordinate_mutation(mutation_probability):\n",
    "    return random.random() < mutation_probability"
   ]
  },
  {
   "cell_type": "code",
   "execution_count": 74,
   "metadata": {},
   "outputs": [],
   "source": [
    "def perform_mutation(\n",
    "   selection, num_of_suitable_descendants, mutation_probability_for_suitable, mutation_probability_for_unsuitable\n",
    "):\n",
    "    \n",
    "    for item in selection[:num_of_suitable_descendants]:\n",
    "        for index, coordinate in enumerate(item):\n",
    "            if should_perform_coordinate_mutation(mutation_probability_for_suitable):\n",
    "                item[index] = random.randint(MIN_VALUE, MAX_VALUE)\n",
    "    \n",
    "    for item in selection[num_of_suitable_descendants:]:\n",
    "        for index, coordinate in enumerate(item):\n",
    "            if should_perform_coordinate_mutation(mutation_probability_for_unsuitable):\n",
    "                item[index] = random.randint(MIN_VALUE, MAX_VALUE)\n",
    "\n",
    "    return selection"
   ]
  },
  {
   "cell_type": "code",
   "execution_count": 75,
   "metadata": {},
   "outputs": [],
   "source": [
    "selection = perform_mutation(\n",
    "    selection,\n",
    "    NUM_OF_SUITABLE_DESCEDANTS,\n",
    "    MUTATION_PROBABILITY_FOR_SUITABLE,\n",
    "    MUTATION_PROBABILITY_FOR_UNSUITABLE\n",
    ")"
   ]
  },
  {
   "cell_type": "code",
   "execution_count": 76,
   "metadata": {},
   "outputs": [],
   "source": [
    "def perform_descendants_substitution(selection, population_size, target_function):\n",
    "    return perform_tournament_selection(selection, len(selection), population_size, target_function)"
   ]
  },
  {
   "cell_type": "code",
   "execution_count": 77,
   "metadata": {},
   "outputs": [
    {
     "data": {
      "text/plain": [
       "[[12, 73, -86, -39, 0],\n",
       " [-146, 285, -184, 0, -69],\n",
       " [-109, -11, -97, 2, 12],\n",
       " [82, 119, 220, -2, -176],\n",
       " [218, -48, 107, 14, -1]]"
      ]
     },
     "execution_count": 77,
     "metadata": {},
     "output_type": "execute_result"
    }
   ],
   "source": [
    "perform_descendants_substitution(selection, POPULATION_SIZE, target_function)[:5]"
   ]
  },
  {
   "cell_type": "code",
   "execution_count": 78,
   "metadata": {},
   "outputs": [],
   "source": [
    "def run_genetic_algorithm(\n",
    "    population_size, min_value, max_value, num_items_for_selection, num_items_for_mutation, target_function,\n",
    "    num_of_suitable_descedants, mutation_probability_for_suitable, mutation_probability_for_unsuitable\n",
    "):\n",
    "    initial_population = create_initial_population(population_size, min_value, max_value)\n",
    "    iteration = 0\n",
    "    while True:\n",
    "        selection = perform_tournament_selection(\n",
    "            initial_population, num_items_for_selection, num_items_for_mutation, target_function\n",
    "        )\n",
    "        descendants = perform_homogeneous_crossing(selection, 2*population_size)\n",
    "        descedants = perform_mutation(\n",
    "            descendants,\n",
    "            num_of_suitable_descedants,\n",
    "            mutation_probability_for_suitable,\n",
    "            mutation_probability_for_unsuitable\n",
    "        )\n",
    "        selection = perform_descendants_substitution(\n",
    "            descendants, population_size, target_function\n",
    "        )\n",
    "        \n",
    "        target_values = [target_function(*item) for item in selection]\n",
    "        print(f\"MIN of target values: {min(target_values)}; AVG of target values: {sum(target_values)/len(target_values)}\")\n",
    "        \n",
    "        result = []\n",
    "        for item in selection:\n",
    "            if target_function(*item) == 0:\n",
    "                result.append(item)\n",
    "        if result:\n",
    "            return result\n",
    "            \n",
    "        if iteration == 10000:\n",
    "            return None\n",
    "        iteration += 1"
   ]
  },
  {
   "cell_type": "code",
   "execution_count": 79,
   "metadata": {},
   "outputs": [
    {
     "name": "stdout",
     "output_type": "stream",
     "text": [
      "MIN of target values: 50; AVG of target values: 322004340855.6047\n",
      "MIN of target values: 16; AVG of target values: 293214926092.82367\n",
      "MIN of target values: 1; AVG of target values: 355333658852.5917\n",
      "MIN of target values: 6; AVG of target values: 345018900704.7003\n",
      "MIN of target values: 6; AVG of target values: 326391706884.4553\n",
      "MIN of target values: 4; AVG of target values: 359708157280.524\n",
      "MIN of target values: 43; AVG of target values: 387722701092.3233\n",
      "MIN of target values: 6; AVG of target values: 396318571235.3173\n",
      "MIN of target values: 22; AVG of target values: 311928363392.398\n",
      "MIN of target values: 5; AVG of target values: 313805782306.183\n",
      "MIN of target values: 5; AVG of target values: 350742004189.66766\n",
      "MIN of target values: 24; AVG of target values: 397780258866.53766\n",
      "MIN of target values: 17; AVG of target values: 398832240956.3077\n",
      "MIN of target values: 15; AVG of target values: 379476842504.07666\n",
      "MIN of target values: 1; AVG of target values: 297032764711.6197\n",
      "MIN of target values: 8; AVG of target values: 326220212280.53534\n",
      "MIN of target values: 6; AVG of target values: 320094243684.3417\n",
      "MIN of target values: 50; AVG of target values: 339930023362.44135\n",
      "MIN of target values: 10; AVG of target values: 328664365251.7893\n",
      "MIN of target values: 22; AVG of target values: 393039074801.56165\n",
      "MIN of target values: 38; AVG of target values: 394780419517.60565\n",
      "MIN of target values: 5; AVG of target values: 334127077209.24567\n",
      "MIN of target values: 18; AVG of target values: 303173907550.49133\n",
      "MIN of target values: 3; AVG of target values: 339261209241.3303\n",
      "MIN of target values: 5; AVG of target values: 363521763692.32367\n",
      "MIN of target values: 7; AVG of target values: 338369157628.754\n",
      "MIN of target values: 8; AVG of target values: 298603742064.93835\n",
      "MIN of target values: 3; AVG of target values: 318792486283.2423\n",
      "MIN of target values: 7; AVG of target values: 320286955817.29834\n",
      "MIN of target values: 33; AVG of target values: 344404059498.1843\n",
      "MIN of target values: 50; AVG of target values: 361926014879.464\n",
      "MIN of target values: 19; AVG of target values: 304541004635.89136\n",
      "MIN of target values: 26; AVG of target values: 344522435382.655\n",
      "MIN of target values: 47; AVG of target values: 338322973775.76434\n",
      "MIN of target values: 11; AVG of target values: 375776753543.2947\n",
      "MIN of target values: 8; AVG of target values: 376606973835.339\n",
      "MIN of target values: 18; AVG of target values: 361746971542.18634\n",
      "MIN of target values: 4; AVG of target values: 349058768104.17065\n",
      "MIN of target values: 3; AVG of target values: 359511228759.709\n",
      "MIN of target values: 9; AVG of target values: 312499852013.29767\n",
      "MIN of target values: 9; AVG of target values: 373000924458.00366\n",
      "MIN of target values: 50; AVG of target values: 372327665545.038\n",
      "MIN of target values: 14; AVG of target values: 311007201581.60034\n",
      "MIN of target values: 26; AVG of target values: 348327696931.40967\n",
      "MIN of target values: 11; AVG of target values: 306394183309.5023\n",
      "MIN of target values: 50; AVG of target values: 421810734499.79865\n",
      "MIN of target values: 38; AVG of target values: 313096907552.2427\n",
      "MIN of target values: 3; AVG of target values: 402585270932.57465\n",
      "MIN of target values: 3; AVG of target values: 317214306330.6567\n",
      "MIN of target values: 13; AVG of target values: 358428504051.0413\n",
      "MIN of target values: 15; AVG of target values: 378608607317.09436\n",
      "MIN of target values: 6; AVG of target values: 349145439203.96967\n",
      "MIN of target values: 13; AVG of target values: 345337699232.0263\n",
      "MIN of target values: 45; AVG of target values: 335912202030.01636\n",
      "MIN of target values: 7; AVG of target values: 356385621692.776\n",
      "MIN of target values: 50; AVG of target values: 335056076453.815\n",
      "MIN of target values: 50; AVG of target values: 342773827980.2393\n",
      "MIN of target values: 1; AVG of target values: 302298134599.3413\n",
      "MIN of target values: 14; AVG of target values: 380038038852.769\n",
      "MIN of target values: 46; AVG of target values: 291974866237.643\n",
      "MIN of target values: 7; AVG of target values: 318718945184.614\n",
      "MIN of target values: 4; AVG of target values: 318917017444.6507\n",
      "MIN of target values: 8; AVG of target values: 366474811652.71265\n",
      "MIN of target values: 9; AVG of target values: 320249166156.976\n",
      "MIN of target values: 17; AVG of target values: 312935056117.6093\n",
      "MIN of target values: 24; AVG of target values: 370774030148.24066\n",
      "MIN of target values: 7; AVG of target values: 357029518159.60236\n",
      "MIN of target values: 50; AVG of target values: 342380862177.579\n",
      "MIN of target values: 9; AVG of target values: 339787225470.4427\n",
      "MIN of target values: 14; AVG of target values: 334626932425.843\n",
      "MIN of target values: 0; AVG of target values: 307190702947.3623\n"
     ]
    }
   ],
   "source": [
    "result = run_genetic_algorithm(\n",
    "    POPULATION_SIZE,\n",
    "    MIN_VALUE,\n",
    "    MAX_VALUE,\n",
    "    NUM_ITEMS_FOR_SELECTION,\n",
    "    NUM_ITEMS_FOR_MUTATION,\n",
    "    target_function,\n",
    "    NUM_OF_SUITABLE_DESCEDANTS,\n",
    "    MUTATION_PROBABILITY_FOR_SUITABLE,\n",
    "    MUTATION_PROBABILITY_FOR_UNSUITABLE\n",
    ")"
   ]
  },
  {
   "cell_type": "code",
   "execution_count": 80,
   "metadata": {},
   "outputs": [
    {
     "data": {
      "text/plain": [
       "[[-188, 216, 0, -50, -35]]"
      ]
     },
     "execution_count": 80,
     "metadata": {},
     "output_type": "execute_result"
    }
   ],
   "source": [
    "result"
   ]
  },
  {
   "attachments": {},
   "cell_type": "markdown",
   "metadata": {},
   "source": [
    "z+w*x^2*z+u*x*y^2*z+u*w^2*x^2*z^2+w*x^2*y^2=-50 "
   ]
  },
  {
   "cell_type": "code",
   "execution_count": 81,
   "metadata": {},
   "outputs": [],
   "source": [
    "TARGET_VALUE = -50\n",
    "\n",
    "\n",
    "def target_function(u, w, x, y, z):\n",
    "    return abs(z + w*x**2*z + u*x*y**2*z + u*w**2*x**2*z**2 + w*x**2*y**2 - TARGET_VALUE)"
   ]
  },
  {
   "cell_type": "code",
   "execution_count": 82,
   "metadata": {},
   "outputs": [
    {
     "name": "stdout",
     "output_type": "stream",
     "text": [
      "MIN of target values: 51; AVG of target values: 7259233372816.644\n",
      "MIN of target values: 7; AVG of target values: 5998004251515.987\n",
      "MIN of target values: 15; AVG of target values: 8402131802951.565\n",
      "MIN of target values: 2; AVG of target values: 7132263747130.533\n",
      "MIN of target values: 17; AVG of target values: 7363223789705.213\n",
      "MIN of target values: 26; AVG of target values: 7008498256372.1045\n",
      "MIN of target values: 7; AVG of target values: 8433149565466.428\n",
      "MIN of target values: 7; AVG of target values: 7368471965174.517\n",
      "MIN of target values: 18; AVG of target values: 9438000182404.088\n",
      "MIN of target values: 7; AVG of target values: 6789505382694.113\n",
      "MIN of target values: 18; AVG of target values: 8417748247727.553\n",
      "MIN of target values: 7; AVG of target values: 8196888582273.912\n",
      "MIN of target values: 7; AVG of target values: 7582242303474.738\n",
      "MIN of target values: 6; AVG of target values: 8381821082571.358\n",
      "MIN of target values: 14; AVG of target values: 7019396347546.314\n",
      "MIN of target values: 18; AVG of target values: 7890461591110.957\n",
      "MIN of target values: 7; AVG of target values: 9204679034958.28\n",
      "MIN of target values: 7; AVG of target values: 7215449547564.923\n",
      "MIN of target values: 12; AVG of target values: 7252495013367.777\n",
      "MIN of target values: 16; AVG of target values: 7022819761830.842\n",
      "MIN of target values: 6; AVG of target values: 8321395268682.67\n",
      "MIN of target values: 0; AVG of target values: 7529317454703.46\n"
     ]
    }
   ],
   "source": [
    "result = run_genetic_algorithm(\n",
    "    POPULATION_SIZE,\n",
    "    MIN_VALUE,\n",
    "    MAX_VALUE,\n",
    "    NUM_ITEMS_FOR_SELECTION,\n",
    "    NUM_ITEMS_FOR_MUTATION,\n",
    "    target_function,\n",
    "    NUM_OF_SUITABLE_DESCEDANTS,\n",
    "    MUTATION_PROBABILITY_FOR_SUITABLE,\n",
    "    MUTATION_PROBABILITY_FOR_UNSUITABLE\n",
    ")"
   ]
  },
  {
   "cell_type": "code",
   "execution_count": 83,
   "metadata": {},
   "outputs": [
    {
     "data": {
      "text/plain": [
       "[[-245, 210, 0, 66, -50]]"
      ]
     },
     "execution_count": 83,
     "metadata": {},
     "output_type": "execute_result"
    }
   ],
   "source": [
    "result"
   ]
  },
  {
   "attachments": {},
   "cell_type": "markdown",
   "metadata": {},
   "source": [
    "u^2*w^2*x^2*z+u^2*x*y^2+w*x*y+y+u^2*x^2*y^2=40"
   ]
  },
  {
   "cell_type": "code",
   "execution_count": 84,
   "metadata": {},
   "outputs": [],
   "source": [
    "TARGET_VALUE = 40\n",
    "\n",
    "\n",
    "def target_function(u, w, x, y, z):\n",
    "    return abs(u**2*w**2*x**2*z + u**2*x*y**2 + w*x*y + y + u**2*x**2*y**2 - TARGET_VALUE)"
   ]
  },
  {
   "cell_type": "code",
   "execution_count": 85,
   "metadata": {},
   "outputs": [
    {
     "name": "stdout",
     "output_type": "stream",
     "text": [
      "MIN of target values: 1; AVG of target values: 7812913988794.492\n",
      "MIN of target values: 88; AVG of target values: 8240554663111.71\n",
      "MIN of target values: 5; AVG of target values: 9919231421212.588\n",
      "MIN of target values: 15; AVG of target values: 10881155683235.297\n",
      "MIN of target values: 83; AVG of target values: 10122221212253.854\n",
      "MIN of target values: 25; AVG of target values: 10501126465703.234\n",
      "MIN of target values: 12; AVG of target values: 7897746652254.378\n",
      "MIN of target values: 30; AVG of target values: 9401030233693.576\n",
      "MIN of target values: 9; AVG of target values: 8961607162046.738\n",
      "MIN of target values: 23; AVG of target values: 10682184983923.535\n",
      "MIN of target values: 13; AVG of target values: 10101648198762.002\n",
      "MIN of target values: 28; AVG of target values: 10219051314521.434\n",
      "MIN of target values: 11; AVG of target values: 11070337251464.52\n",
      "MIN of target values: 8; AVG of target values: 9239747567495.812\n",
      "MIN of target values: 40; AVG of target values: 10876912818959.074\n",
      "MIN of target values: 40; AVG of target values: 10064762702466.4\n",
      "MIN of target values: 4; AVG of target values: 10280775089570.488\n",
      "MIN of target values: 0; AVG of target values: 10801694682990.074\n"
     ]
    }
   ],
   "source": [
    "result = run_genetic_algorithm(\n",
    "    POPULATION_SIZE,\n",
    "    MIN_VALUE,\n",
    "    MAX_VALUE,\n",
    "    NUM_ITEMS_FOR_SELECTION,\n",
    "    NUM_ITEMS_FOR_MUTATION,\n",
    "    target_function,\n",
    "    NUM_OF_SUITABLE_DESCEDANTS,\n",
    "    MUTATION_PROBABILITY_FOR_SUITABLE,\n",
    "    MUTATION_PROBABILITY_FOR_UNSUITABLE\n",
    ")"
   ]
  },
  {
   "cell_type": "code",
   "execution_count": 86,
   "metadata": {},
   "outputs": [
    {
     "data": {
      "text/plain": [
       "[[-290, 293, 0, 40, 297]]"
      ]
     },
     "execution_count": 86,
     "metadata": {},
     "output_type": "execute_result"
    }
   ],
   "source": [
    "result"
   ]
  }
 ],
 "metadata": {
  "kernelspec": {
   "display_name": "Python 3",
   "language": "python",
   "name": "python3"
  },
  "language_info": {
   "name": "python",
   "version": "3.10.0"
  },
  "orig_nbformat": 4
 },
 "nbformat": 4,
 "nbformat_minor": 2
}
